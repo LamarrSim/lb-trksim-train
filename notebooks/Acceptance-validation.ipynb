{
 "cells": [
  {
   "cell_type": "code",
   "execution_count": 1,
   "metadata": {
    "collapsed": true
   },
   "outputs": [
    {
     "name": "stderr",
     "output_type": "stream",
     "text": [
      "2022-12-05 06:02:24.105988: I tensorflow/core/util/util.cc:169] oneDNN custom operations are on. You may see slightly different numerical results due to floating-point round-off errors from different computation orders. To turn them off, set the environment variable `TF_ENABLE_ONEDNN_OPTS=0`.\n"
     ]
    },
    {
     "name": "stdout",
     "output_type": "stream",
     "text": [
      "WARNING: Running pip as the 'root' user can result in broken permissions and conflicting behaviour with the system package manager. It is recommended to use a virtual environment instead: https://pip.pypa.io/warnings/venv\r\n",
      "\r\n"
     ]
    }
   ],
   "source": [
    "import numpy as np\n",
    "import matplotlib.pyplot as plt\n",
    "import pandas as pd\n",
    "import tensorflow as tf\n",
    "\n",
    "!conda run -n base python3 -m pip install -q git+https://github.com/landerlini/FastQuantileLayer.git --force-reinstall --no-deps"
   ]
  },
  {
   "cell_type": "code",
   "execution_count": 17,
   "outputs": [
    {
     "name": "stdout",
     "output_type": "stream",
     "text": [
      "WARNING:tensorflow:6 out of the last 15 calls to <function Model.make_predict_function.<locals>.predict_function at 0x7f95ceb04670> triggered tf.function retracing. Tracing is expensive and the excessive number of tracings could be due to (1) creating @tf.function repeatedly in a loop, (2) passing tensors with different shapes, (3) passing Python objects instead of tensors. For (1), please define your @tf.function outside of the loop. For (2), @tf.function has reduce_retracing=True option that can avoid unnecessary retracing. For (3), please refer to https://www.tensorflow.org/guide/function#controlling_retracing and https://www.tensorflow.org/api_docs/python/tf/function for  more details.\n",
      "1/1 [==============================] - 2s 2s/step\n",
      "Model: \"sequential\"\n",
      "_________________________________________________________________\n",
      " Layer (type)                Output Shape              Param #   \n",
      "=================================================================\n",
      " fast_quantile_layer (FastQu  (None, 10)               0         \n",
      " antileLayer)                                                    \n",
      "                                                                 \n",
      " dense (Dense)               (None, 128)               1408      \n",
      "                                                                 \n",
      " dense_1 (Dense)             (None, 128)               16512     \n",
      "                                                                 \n",
      " dense_2 (Dense)             (None, 128)               16512     \n",
      "                                                                 \n",
      " dense_3 (Dense)             (None, 128)               16512     \n",
      "                                                                 \n",
      " dense_4 (Dense)             (None, 128)               16512     \n",
      "                                                                 \n",
      " dense_5 (Dense)             (None, 128)               16512     \n",
      "                                                                 \n",
      " dense_6 (Dense)             (None, 128)               16512     \n",
      "                                                                 \n",
      " dense_7 (Dense)             (None, 128)               16512     \n",
      "                                                                 \n",
      " dense_8 (Dense)             (None, 128)               16512     \n",
      "                                                                 \n",
      " dense_9 (Dense)             (None, 128)               16512     \n",
      "                                                                 \n",
      " dense_10 (Dense)            (None, 1)                 129       \n",
      "                                                                 \n",
      "=================================================================\n",
      "Total params: 150,145\n",
      "Trainable params: 150,145\n",
      "Non-trainable params: 0\n",
      "_________________________________________________________________\n"
     ]
    }
   ],
   "source": [
    "test_dataset = tf.data.experimental.load(\"./acceptance-test.tfrecords\").batch(1_000_000)\n",
    "acceptance_model = tf.keras.models.load_model(\"/workarea/cloud-storage/anderlinil/models/acceptance\")\n",
    "y_hat = acceptance_model.predict(test_dataset)\n",
    "\n",
    "acceptance_model.summary()"
   ],
   "metadata": {
    "collapsed": false,
    "pycharm": {
     "name": "#%%\n"
    }
   }
  },
  {
   "cell_type": "code",
   "execution_count": 18,
   "outputs": [
    {
     "data": {
      "text/plain": "            x           y             z              p          px  \\\n0  147.257706 -134.657303  11301.966797    4760.291504  112.290001   \n1    0.928800   -0.167900     67.115898  114789.437500 -113.160004   \n2    0.928800   -0.167900     67.115898    6210.814941  -80.650002   \n3    0.928800   -0.167900     67.115898   25870.900391 -412.559998   \n4    0.928800   -0.167900     67.115898   10702.789062   14.690000   \n5    0.928800   -0.167900     67.115898   48387.394531  369.089996   \n6   20.291800   36.270199   2806.418213    2299.732666  262.119995   \n7   20.291800   36.270199   2806.418213   16622.189453   83.849998   \n8    0.928800   -0.167900     67.115898   59095.210938 -273.019989   \n9    0.928800   -0.167900     67.115898   60590.968750  276.239990   \n\n            py   pz  is_e  is_mu  is_h  acceptance  predicted  \n0  -648.390015  0.0   0.0    1.0  -1.0         0.0        1.0  \n1    15.520000  0.0   0.0    1.0   1.0         0.0        1.0  \n2  -195.600006  0.0   0.0    1.0   1.0         1.0        1.0  \n3   583.460022  0.0   0.0    1.0  -1.0         1.0        1.0  \n4   245.179993  0.0   0.0    1.0   1.0         1.0        1.0  \n5   653.059998  0.0   0.0    1.0   1.0         1.0        1.0  \n6  -526.900024  0.0   0.0    1.0   1.0         1.0        1.0  \n7   422.440002  0.0   0.0    1.0   1.0         1.0        1.0  \n8  1150.020020  0.0   0.0    1.0   1.0         1.0        1.0  \n9 -1087.349976  0.0   0.0    1.0  -1.0         1.0        1.0  ",
      "text/html": "<div>\n<style scoped>\n    .dataframe tbody tr th:only-of-type {\n        vertical-align: middle;\n    }\n\n    .dataframe tbody tr th {\n        vertical-align: top;\n    }\n\n    .dataframe thead th {\n        text-align: right;\n    }\n</style>\n<table border=\"1\" class=\"dataframe\">\n  <thead>\n    <tr style=\"text-align: right;\">\n      <th></th>\n      <th>x</th>\n      <th>y</th>\n      <th>z</th>\n      <th>p</th>\n      <th>px</th>\n      <th>py</th>\n      <th>pz</th>\n      <th>is_e</th>\n      <th>is_mu</th>\n      <th>is_h</th>\n      <th>acceptance</th>\n      <th>predicted</th>\n    </tr>\n  </thead>\n  <tbody>\n    <tr>\n      <th>0</th>\n      <td>147.257706</td>\n      <td>-134.657303</td>\n      <td>11301.966797</td>\n      <td>4760.291504</td>\n      <td>112.290001</td>\n      <td>-648.390015</td>\n      <td>0.0</td>\n      <td>0.0</td>\n      <td>1.0</td>\n      <td>-1.0</td>\n      <td>0.0</td>\n      <td>1.0</td>\n    </tr>\n    <tr>\n      <th>1</th>\n      <td>0.928800</td>\n      <td>-0.167900</td>\n      <td>67.115898</td>\n      <td>114789.437500</td>\n      <td>-113.160004</td>\n      <td>15.520000</td>\n      <td>0.0</td>\n      <td>0.0</td>\n      <td>1.0</td>\n      <td>1.0</td>\n      <td>0.0</td>\n      <td>1.0</td>\n    </tr>\n    <tr>\n      <th>2</th>\n      <td>0.928800</td>\n      <td>-0.167900</td>\n      <td>67.115898</td>\n      <td>6210.814941</td>\n      <td>-80.650002</td>\n      <td>-195.600006</td>\n      <td>0.0</td>\n      <td>0.0</td>\n      <td>1.0</td>\n      <td>1.0</td>\n      <td>1.0</td>\n      <td>1.0</td>\n    </tr>\n    <tr>\n      <th>3</th>\n      <td>0.928800</td>\n      <td>-0.167900</td>\n      <td>67.115898</td>\n      <td>25870.900391</td>\n      <td>-412.559998</td>\n      <td>583.460022</td>\n      <td>0.0</td>\n      <td>0.0</td>\n      <td>1.0</td>\n      <td>-1.0</td>\n      <td>1.0</td>\n      <td>1.0</td>\n    </tr>\n    <tr>\n      <th>4</th>\n      <td>0.928800</td>\n      <td>-0.167900</td>\n      <td>67.115898</td>\n      <td>10702.789062</td>\n      <td>14.690000</td>\n      <td>245.179993</td>\n      <td>0.0</td>\n      <td>0.0</td>\n      <td>1.0</td>\n      <td>1.0</td>\n      <td>1.0</td>\n      <td>1.0</td>\n    </tr>\n    <tr>\n      <th>5</th>\n      <td>0.928800</td>\n      <td>-0.167900</td>\n      <td>67.115898</td>\n      <td>48387.394531</td>\n      <td>369.089996</td>\n      <td>653.059998</td>\n      <td>0.0</td>\n      <td>0.0</td>\n      <td>1.0</td>\n      <td>1.0</td>\n      <td>1.0</td>\n      <td>1.0</td>\n    </tr>\n    <tr>\n      <th>6</th>\n      <td>20.291800</td>\n      <td>36.270199</td>\n      <td>2806.418213</td>\n      <td>2299.732666</td>\n      <td>262.119995</td>\n      <td>-526.900024</td>\n      <td>0.0</td>\n      <td>0.0</td>\n      <td>1.0</td>\n      <td>1.0</td>\n      <td>1.0</td>\n      <td>1.0</td>\n    </tr>\n    <tr>\n      <th>7</th>\n      <td>20.291800</td>\n      <td>36.270199</td>\n      <td>2806.418213</td>\n      <td>16622.189453</td>\n      <td>83.849998</td>\n      <td>422.440002</td>\n      <td>0.0</td>\n      <td>0.0</td>\n      <td>1.0</td>\n      <td>1.0</td>\n      <td>1.0</td>\n      <td>1.0</td>\n    </tr>\n    <tr>\n      <th>8</th>\n      <td>0.928800</td>\n      <td>-0.167900</td>\n      <td>67.115898</td>\n      <td>59095.210938</td>\n      <td>-273.019989</td>\n      <td>1150.020020</td>\n      <td>0.0</td>\n      <td>0.0</td>\n      <td>1.0</td>\n      <td>1.0</td>\n      <td>1.0</td>\n      <td>1.0</td>\n    </tr>\n    <tr>\n      <th>9</th>\n      <td>0.928800</td>\n      <td>-0.167900</td>\n      <td>67.115898</td>\n      <td>60590.968750</td>\n      <td>276.239990</td>\n      <td>-1087.349976</td>\n      <td>0.0</td>\n      <td>0.0</td>\n      <td>1.0</td>\n      <td>-1.0</td>\n      <td>1.0</td>\n      <td>1.0</td>\n    </tr>\n  </tbody>\n</table>\n</div>"
     },
     "execution_count": 18,
     "metadata": {},
     "output_type": "execute_result"
    }
   ],
   "source": [
    "X, y = next(iter(test_dataset.as_numpy_iterator()))\n",
    "#acceptance_vars = [\"mc_x\", \"mc_y\", \"mc_z\", \"mc_p\", \"mc_px\", \"mc_py\", \"mc_is_e\", \"mc_is_mu\", \"mc_is_h\", \"mc_charge\"]\n",
    "\n",
    "df = pd.DataFrame(\n",
    "    np.c_[X, y, y_hat],\n",
    "    columns=['x',' y', 'z', 'p', 'px', 'py', 'pz', 'is_e', 'is_mu', 'is_h', 'acceptance', 'predicted']\n",
    ")\n",
    "df.head(10)"
   ],
   "metadata": {
    "collapsed": false,
    "pycharm": {
     "name": "#%%\n"
    }
   }
  },
  {
   "cell_type": "code",
   "execution_count": 19,
   "outputs": [
    {
     "name": "stdout",
     "output_type": "stream",
     "text": [
      "2/2 [==============================] - 0s 24ms/step\n"
     ]
    }
   ],
   "source": [
    "acceptance_model = tf.keras.models.load_model(\"/workarea/cloud-storage/anderlinil/models/acceptance\")\n",
    "y_hat = acceptance_model.predict(X, batch_size=100_000)"
   ],
   "metadata": {
    "collapsed": false,
    "pycharm": {
     "name": "#%%\n"
    }
   }
  },
  {
   "cell_type": "code",
   "execution_count": 20,
   "outputs": [
    {
     "data": {
      "text/plain": "<Figure size 640x480 with 1 Axes>",
      "image/png": "[encoded data removed]"
     },
     "metadata": {},
     "output_type": "display_data"
    }
   ],
   "source": [
    "plt.hist(df.acceptance, bins=100, label=\"In Acceptance\")\n",
    "plt.hist(df.predicted, bins = 100, label=\"Predicted\")\n",
    "plt.show()"
   ],
   "metadata": {
    "collapsed": false,
    "pycharm": {
     "name": "#%%\n"
    }
   }
  },
  {
   "cell_type": "code",
   "execution_count": null,
   "outputs": [],
   "source": [],
   "metadata": {
    "collapsed": false,
    "pycharm": {
     "name": "#%%\n"
    }
   }
  }
 ],
 "metadata": {
  "kernelspec": {
   "name": "lhcb",
   "language": "python",
   "display_name": "LHCb Analysis Facility"
  },
  "language_info": {
   "codemirror_mode": {
    "name": "ipython",
    "version": 2
   },
   "file_extension": ".py",
   "mimetype": "text/x-python",
   "name": "python",
   "nbconvert_exporter": "python",
   "pygments_lexer": "ipython2",
   "version": "2.7.6"
  }
 },
 "nbformat": 4,
 "nbformat_minor": 0
}
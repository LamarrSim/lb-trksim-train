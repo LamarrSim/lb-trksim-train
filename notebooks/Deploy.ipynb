{
 "cells": [
  {
   "cell_type": "code",
   "execution_count": 1,
   "id": "0c83f34c-2967-41fb-bd7b-61f79f563858",
   "metadata": {},
   "outputs": [
    {
     "name": "stdout",
     "output_type": "stream",
     "text": [
      "WARNING: Running pip as the 'root' user can result in broken permissions and conflicting behaviour with the system package manager. It is recommended to use a virtual environment instead: https://pip.pypa.io/warnings/venv\n",
      "\n"
     ]
    }
   ],
   "source": [
    "!conda run -n base pip install -q --upgrade  git+https://github.com/landerlini/scikinC.git@validation_helpers --force-reinstall --no-deps\n",
    "import scikinC\n",
    "import scikinC.layers\n",
    "import numpy as np \n",
    "import pandas as pd\n",
    "import matplotlib.pyplot as plt\n",
    "import os, os.path\n",
    "from os import environ\n",
    "\n",
    "## Remove annoying warnings \n",
    "environ['TF_CPP_MIN_LOG_LEVEL'] = '3' \n",
    "import tensorflow as tf"
   ]
  },
  {
   "cell_type": "code",
   "execution_count": null,
   "id": "9aa25d2c-9849-4692-91f8-fac8b5646660",
   "metadata": {},
   "outputs": [
    {
     "name": "stdout",
     "output_type": "stream",
     "text": [
      "n_weights original 166913\n",
      "n_weights_collapsed 166913\n"
     ]
    }
   ],
   "source": [
    "from deploy_utils import LamarrModel\n",
    "\n",
    "acceptance = LamarrModel.from_saved_model_pb(\n",
    "    environ.get(\"ACCEPTANCE_MODEL\",  \"/workarea/cloud-storage/anderlinil/models/acceptance/saved_model.pb\")\n",
    ")\n",
    "\n",
    "efficiency = LamarrModel.from_saved_model_pb(\n",
    "    environ.get(\"EFFICIENCY_MODEL\",  \"/workarea/cloud-storage/anderlinil/models/efficiency/saved_model.pb\")\n",
    ")"
   ]
  },
  {
   "cell_type": "code",
   "execution_count": null,
   "id": "081dadaa-4b88-46c2-8310-a0c379d19902",
   "metadata": {},
   "outputs": [],
   "source": [
    "for model in acceptance, efficiency:\n",
    "    model.tX.transformers_ = [\n",
    "        (t[0], t[1], list(t[2])) for t in model.tX.transformers_\n",
    "    ]"
   ]
  },
  {
   "cell_type": "code",
   "execution_count": null,
   "id": "58619954-053d-48f3-8368-9822491a97d8",
   "metadata": {},
   "outputs": [],
   "source": [
    "from deploy_utils import hacks\n",
    "scikinC.layers.DenseWithSkipConnection = hacks.scikinC_DenseWithSkipConnection"
   ]
  },
  {
   "cell_type": "code",
   "execution_count": null,
   "id": "af5cc553-765c-4b86-80c7-6c6af1a2a740",
   "metadata": {},
   "outputs": [],
   "source": [
    "generated_c = environ.get(\"GENERATED_C_FILE\", \"exported/generated.C\")\n",
    "\n",
    "models = dict(\n",
    "    acceptance=acceptance.pipeline,\n",
    "    efficiency=efficiency.pipeline\n",
    ")\n",
    "\n",
    "print(scikinC.convert(models), file=open(generated_c, 'w'))"
   ]
  },
  {
   "cell_type": "code",
   "execution_count": null,
   "id": "c2b6a773-36c0-46b6-b920-c1d9fd17a195",
   "metadata": {},
   "outputs": [],
   "source": [
    "lib_path = generated_c.replace('.C', str(np.random.randint(0xFFFFFF)) + '.so')\n",
    "print (lib_path)\n",
    "!gcc {generated_c} -o {lib_path} -O3 -lm --shared -fPIC"
   ]
  },
  {
   "cell_type": "code",
   "execution_count": null,
   "id": "943d722b-4a87-490d-9387-4347172af6bf",
   "metadata": {},
   "outputs": [],
   "source": [
    "from scikinC.validation import MLFunction\n",
    "\n",
    "acceptance.deployed = MLFunction(lib_path, \"acceptance\", n_inputs=acceptance.model.output_shape[1], n_outputs=1)\n",
    "efficiency.deployed = MLFunction(lib_path, \"efficiency\", n_inputs=efficiency.model.output_shape[1], n_outputs=4)"
   ]
  },
  {
   "cell_type": "code",
   "execution_count": null,
   "id": "a3d3a382-2b74-4ccd-b497-19dedadd2129",
   "metadata": {},
   "outputs": [],
   "source": [
    "from validation_utils import invert_column_transformer\n",
    "from feather_io import FeatherReader\n",
    "\n",
    "\n",
    "def make_comparison_plot(title, y_py, y_py_collapsed, y_c):\n",
    "    plt.figure(figsize=(10,3))\n",
    "    plt.subplot(1,2,1)\n",
    "    _, bins, _ = plt.hist(y_py, bins=50, label=\"Original python model\")\n",
    "    plt.hist(y_py_collapsed, bins=bins, label=\"Collapsed model\", histtype='step', linewidth=3)\n",
    "    plt.hist(y_c, bins=bins, label=\"Deployed model\", histtype='step', linewidth=1)\n",
    "    plt.xlabel(\"Model response\")\n",
    "    plt.title(title)\n",
    "    plt.legend()\n",
    "    plt.yscale('log')\n",
    "\n",
    "    plt.subplot(1,2,2)\n",
    "    _, bins, _ = plt.hist(y_c.flatten() - y_py.flatten(), bins=50, label=\"converting\")\n",
    "    _, bins, _ = plt.hist(y_py_collapsed.flatten() - y_py.flatten(), bins=bins, histtype='step', label=\"collapsing\", linewidth=2)\n",
    "\n",
    "    plt.xlabel(\"Conversion error\")\n",
    "    plt.yscale('log')\n",
    "    plt.legend(title=\"Error introduced:\")\n",
    "\n",
    "    plt.show()"
   ]
  },
  {
   "cell_type": "code",
   "execution_count": null,
   "id": "0c040eeb-8009-4827-bc58-99de6f9181c3",
   "metadata": {},
   "outputs": [],
   "source": [
    "data_reader = FeatherReader(environ.get(\"ACCEPTANCE-TEST-DATA\", \"acceptance-validation\"))\n",
    "test_dataset = data_reader.as_dask_dataframe().head(10_000, npartitions=-1)\n",
    "pX = test_dataset[data_reader.features].values\n",
    "X = invert_column_transformer(acceptance.tX, pX)\n",
    "\n",
    "make_comparison_plot(\n",
    "    \"Acceptance\",\n",
    "    acceptance.model.predict(pX),\n",
    "    acceptance.collapsed_model.predict(pX),\n",
    "    acceptance.deployed(X)\n",
    ")"
   ]
  },
  {
   "cell_type": "code",
   "execution_count": null,
   "id": "c9826e14-f688-4df1-91bd-a6f62eecbbef",
   "metadata": {},
   "outputs": [],
   "source": [
    "data_reader = FeatherReader(environ.get(\"EFFICIENCY-TEST-DATA\", \"efficiency-validation\"))\n",
    "test_dataset = data_reader.as_dask_dataframe().head(10_000, npartitions=-1)\n",
    "pX = test_dataset[data_reader.features].values\n",
    "X = invert_column_transformer(acceptance.tX, pX)\n",
    "\n",
    "make_comparison_plot(\n",
    "    \"Efficiency as long tracks\",\n",
    "    efficiency.model.predict(pX)[:,1],\n",
    "    efficiency.collapsed_model.predict(pX)[:,1],\n",
    "    efficiency.deployed(X)[:,1]\n",
    ")\n",
    "\n",
    "make_comparison_plot(\n",
    "    \"Efficiency as upstream tracks\",\n",
    "    efficiency.model.predict(pX)[:,2],\n",
    "    efficiency.collapsed_model.predict(pX)[:,2],\n",
    "    efficiency.deployed(X)[:,2]\n",
    ")\n",
    "\n",
    "make_comparison_plot(\n",
    "    \"Efficiency as downstream tracks\",\n",
    "    efficiency.model.predict(pX)[:,3],\n",
    "    efficiency.collapsed_model.predict(pX)[:,3],\n",
    "    efficiency.deployed(X)[:,3]\n",
    ")"
   ]
  },
  {
   "cell_type": "code",
   "execution_count": null,
   "id": "b8d688c6-28e1-4df2-aa95-e1f73c05b2d2",
   "metadata": {},
   "outputs": [],
   "source": []
  }
 ],
 "metadata": {
  "kernelspec": {
   "display_name": "LHCb Analysis Facility",
   "language": "python",
   "name": "lhcb"
  },
  "language_info": {
   "codemirror_mode": {
    "name": "ipython",
    "version": 3
   },
   "file_extension": ".py",
   "mimetype": "text/x-python",
   "name": "python",
   "nbconvert_exporter": "python",
   "pygments_lexer": "ipython3",
   "version": "3.9.15"
  }
 },
 "nbformat": 4,
 "nbformat_minor": 5
}

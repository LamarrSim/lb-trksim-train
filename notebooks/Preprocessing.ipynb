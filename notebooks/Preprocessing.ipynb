{
 "cells": [
  {
   "cell_type": "code",
   "execution_count": 1,
   "id": "95bf707b-a587-4808-b895-2996cff1f5b7",
   "metadata": {},
   "outputs": [
    {
     "name": "stdout",
     "output_type": "stream",
     "text": [
      "Requirement already satisfied: dask[diagnostics] in /usr/local/miniconda3/envs/tf_on_gpu/lib/python3.9/site-packages (2022.12.0)\n",
      "Requirement already satisfied: packaging>=20.0 in /usr/local/miniconda3/envs/tf_on_gpu/lib/python3.9/site-packages (from dask[diagnostics]) (21.3)\n",
      "Requirement already satisfied: fsspec>=0.6.0 in /usr/local/miniconda3/envs/tf_on_gpu/lib/python3.9/site-packages (from dask[diagnostics]) (2022.11.0)\n",
      "Requirement already satisfied: pyyaml>=5.3.1 in /usr/local/miniconda3/envs/tf_on_gpu/lib/python3.9/site-packages (from dask[diagnostics]) (6.0)\n",
      "Requirement already satisfied: cloudpickle>=1.1.1 in /usr/local/miniconda3/envs/tf_on_gpu/lib/python3.9/site-packages (from dask[diagnostics]) (2.2.0)\n",
      "Requirement already satisfied: partd>=0.3.10 in /usr/local/miniconda3/envs/tf_on_gpu/lib/python3.9/site-packages (from dask[diagnostics]) (1.3.0)\n",
      "Requirement already satisfied: toolz>=0.8.2 in /usr/local/miniconda3/envs/tf_on_gpu/lib/python3.9/site-packages (from dask[diagnostics]) (0.12.0)\n",
      "Requirement already satisfied: click>=7.0 in /usr/local/miniconda3/envs/tf_on_gpu/lib/python3.9/site-packages (from dask[diagnostics]) (8.1.3)\n",
      "Collecting bokeh<3,>=2.4.2\n",
      "  Using cached bokeh-2.4.3-py3-none-any.whl (18.5 MB)\n",
      "Collecting jinja2\n",
      "  Using cached Jinja2-3.1.2-py3-none-any.whl (133 kB)\n",
      "Requirement already satisfied: numpy>=1.11.3 in /usr/local/miniconda3/envs/tf_on_gpu/lib/python3.9/site-packages (from bokeh<3,>=2.4.2->dask[diagnostics]) (1.23.5)\n",
      "Requirement already satisfied: pillow>=7.1.0 in /usr/local/miniconda3/envs/tf_on_gpu/lib/python3.9/site-packages (from bokeh<3,>=2.4.2->dask[diagnostics]) (9.3.0)\n",
      "Collecting typing-extensions>=3.10.0\n",
      "  Downloading typing_extensions-4.4.0-py3-none-any.whl (26 kB)\n",
      "Requirement already satisfied: tornado>=5.1 in /usr/local/miniconda3/envs/tf_on_gpu/lib/python3.9/site-packages (from bokeh<3,>=2.4.2->dask[diagnostics]) (6.2)\n",
      "Requirement already satisfied: MarkupSafe>=2.0 in /usr/local/miniconda3/envs/tf_on_gpu/lib/python3.9/site-packages (from jinja2->dask[diagnostics]) (2.1.1)\n",
      "Requirement already satisfied: pyparsing!=3.0.5,>=2.0.2 in /usr/local/miniconda3/envs/tf_on_gpu/lib/python3.9/site-packages (from packaging>=20.0->dask[diagnostics]) (3.0.9)\n",
      "Requirement already satisfied: locket in /usr/local/miniconda3/envs/tf_on_gpu/lib/python3.9/site-packages (from partd>=0.3.10->dask[diagnostics]) (1.0.0)\n",
      "Installing collected packages: typing-extensions, jinja2, bokeh\n",
      "  Attempting uninstall: typing-extensions\n",
      "    Found existing installation: typing-extensions 3.7.4.3\n",
      "    Uninstalling typing-extensions-3.7.4.3:\n",
      "      Successfully uninstalled typing-extensions-3.7.4.3\n",
      "Successfully installed bokeh-2.4.3 jinja2-3.1.2 typing-extensions-4.4.0\n",
      "\n",
      "ERROR: pip's dependency resolver does not currently take into account all the packages that are installed. This behaviour is the source of the following dependency conflicts.\n",
      "tensorflow 2.6.2 requires numpy~=1.19.2, but you have numpy 1.23.5 which is incompatible.\n",
      "tensorflow 2.6.2 requires typing-extensions~=3.7.4, but you have typing-extensions 4.4.0 which is incompatible.\n",
      "WARNING: Running pip as the 'root' user can result in broken permissions and conflicting behaviour with the system package manager. It is recommended to use a virtual environment instead: https://pip.pypa.io/warnings/venv\n",
      "\n"
     ]
    }
   ],
   "source": [
    "import numpy as np\n",
    "import pandas as pd\n",
    "!conda run -n tf_on_gpu python3 -m pip install \"dask[diagnostics]\"\n",
    "import dask.dataframe as ddf\n",
    "import uproot"
   ]
  },
  {
   "cell_type": "code",
   "execution_count": 2,
   "id": "8fbc3902-5d74-45c2-bddc-0e31c6b43d19",
   "metadata": {},
   "outputs": [
    {
     "name": "stdout",
     "output_type": "stream",
     "text": [
      "Found 10 files from /workarea/cloud-storage/anderlinil/LamarrBenderTrain/j100/*.root\n"
     ]
    }
   ],
   "source": [
    "from glob import glob\n",
    "file_pattern = \"/workarea/cloud-storage/anderlinil/LamarrBenderTrain/j100/*.root\"\n",
    "file_list = glob(file_pattern)\n",
    "print (f\"Found {len(file_list)} files from {file_pattern}\")  "
   ]
  },
  {
   "cell_type": "code",
   "execution_count": 3,
   "id": "ff180672-b5b3-446a-8fcf-ee28c5f1bd36",
   "metadata": {},
   "outputs": [],
   "source": [
    "def read_root(filename, tree=None):\n",
    "    if tree is None:\n",
    "        return uproot.open(filename)\n",
    "    \n",
    "    return pd.DataFrame(uproot.open(filename)[tree].arrays(library='np'))\n",
    "\n",
    "from functools import partial\n",
    "sim = (ddf.from_map (partial(read_root, tree=\"TrackingTupler/sim\"), file_list)\n",
    "          .query(\"acceptance <= 1\")\n",
    "       )\n",
    "reco = ddf.from_map (partial(read_root, tree=\"TrackingTupler/reco\"), file_list)\n"
   ]
  },
  {
   "cell_type": "code",
   "execution_count": 4,
   "id": "4fdf3a24-41d8-4630-9d8b-c18e49659be2",
   "metadata": {},
   "outputs": [
    {
     "data": {
      "text/plain": [
       "Index(['mc_key', 'evtNumber', 'runNumber', 'acceptance', 'reconstructible',\n",
       "       'recobleCat', 'mcID', 'mcIDmother', 'mc_charge', 'fromSignal',\n",
       "       'reconstructed', 'type', 'mc_vertexType', 'mc_primaryVertexType',\n",
       "       'mc_motherVertexType', 'mc_x', 'mc_y', 'mc_z', 'mc_r', 'mc_tx', 'mc_ty',\n",
       "       'mc_px', 'mc_py', 'mc_pz', 'mc_p', 'mc_pt', 'mc_eta', 'mc_phi',\n",
       "       'mc_mass', 'x_ClosestToBeam', 'y_ClosestToBeam', 'z_ClosestToBeam',\n",
       "       'tx_ClosestToBeam', 'ty_ClosestToBeam', 'px_ClosestToBeam',\n",
       "       'py_ClosestToBeam', 'pz_ClosestToBeam', 'p_ClosestToBeam',\n",
       "       'pt_ClosestToBeam', 'eta_ClosestToBeam', 'phi_ClosestToBeam',\n",
       "       'mass_ClosestToBeam'],\n",
       "      dtype='object')"
      ]
     },
     "execution_count": 4,
     "metadata": {},
     "output_type": "execute_result"
    }
   ],
   "source": [
    "sim.columns"
   ]
  },
  {
   "cell_type": "code",
   "execution_count": 5,
   "id": "eee85a42-58e5-4412-ad30-bed8e999de0b",
   "metadata": {},
   "outputs": [],
   "source": [
    "sim['mc_log10_p'] = np.log(sim.mc_p)/np.log(10)\n",
    "sim['mc_is_e'] = abs(sim.mcID).isin([11]).astype(np.float32)\n",
    "sim['mc_is_mu'] = abs(sim.mcID).isin([13]).astype(np.float32)\n",
    "sim['mc_is_h'] = abs(sim.mcID).isin([211, 321, 2212]).astype(np.float32)"
   ]
  },
  {
   "cell_type": "code",
   "execution_count": 6,
   "id": "f3338ba6-c4f9-40bf-846c-2970f412a881",
   "metadata": {},
   "outputs": [],
   "source": [
    "acceptance_vars = [\"mc_x\", \"mc_y\", \"mc_z\", \"mc_log10_p\", \"mc_px\", \"mc_py\", \"mc_is_e\", \"mc_is_mu\", \"mc_is_h\", \"mc_charge\"]\n",
    "acceptance_labels = [\"acceptance\"]"
   ]
  },
  {
   "cell_type": "code",
   "execution_count": 7,
   "id": "27703bbc-6099-4eb9-bf55-756d95d82ea1",
   "metadata": {},
   "outputs": [
    {
     "data": {
      "image/png": "[encoded data removed]",
      "text/plain": [
       "<Figure size 1500x1000 with 6 Axes>"
      ]
     },
     "metadata": {},
     "output_type": "display_data"
    }
   ],
   "source": [
    "# Performs checks and plots on the first 100k rows\n",
    "import matplotlib.pyplot as plt\n",
    "\n",
    "df = sim[acceptance_vars].head(1_000_000, npartitions=10)\n",
    "plt.figure(figsize=(15,10))\n",
    "for iVar, var in enumerate(acceptance_vars[:6], 1):\n",
    "    plt.subplot(2, 3, iVar)\n",
    "    plt.hist(df[var], bins=100)\n",
    "    plt.xlabel(var)\n",
    "    plt.yscale('log')\n",
    "\n",
    "plt.show()"
   ]
  },
  {
   "cell_type": "code",
   "execution_count": 8,
   "id": "762deb04",
   "metadata": {
    "collapsed": false,
    "jupyter": {
     "outputs_hidden": false
    },
    "pycharm": {
     "name": "#%%\n"
    }
   },
   "outputs": [
    {
     "data": {
      "image/png": "[encoded data removed]",
      "text/plain": [
       "<Figure size 640x480 with 1 Axes>"
      ]
     },
     "metadata": {},
     "output_type": "display_data"
    }
   ],
   "source": [
    "plt.hist(sim[acceptance_labels].head(100_000).values.flatten())\n",
    "plt.show()"
   ]
  },
  {
   "cell_type": "code",
   "execution_count": 9,
   "id": "52d2a5a7",
   "metadata": {
    "collapsed": false,
    "jupyter": {
     "outputs_hidden": false
    },
    "pycharm": {
     "name": "#%%\n"
    }
   },
   "outputs": [],
   "source": [
    "from sklearn.compose import ColumnTransformer\n",
    "from sklearn.preprocessing import QuantileTransformer\n",
    "\n",
    "X = df.values\n",
    "\n",
    "preprocessing_step = ColumnTransformer([\n",
    "    (\"quantile\", QuantileTransformer(output_distribution='normal'), list(range(6))),\n",
    "    (\"flags\", \"passthrough\", list(range(6,X.shape[1])))\n",
    "])\n",
    "preprocessing_step = preprocessing_step.fit(X)"
   ]
  },
  {
   "cell_type": "code",
   "execution_count": 10,
   "id": "e56dc91c-e60d-4a12-a23c-991aa0002f2f",
   "metadata": {},
   "outputs": [
    {
     "data": {
      "text/html": [
       "<table>\n",
       "    <tr>\n",
       "        <td>\n",
       "            <table style=\"border-collapse: collapse;\">\n",
       "                <thead>\n",
       "                    <tr>\n",
       "                        <td> </td>\n",
       "                        <th> Array </th>\n",
       "                        <th> Chunk </th>\n",
       "                    </tr>\n",
       "                </thead>\n",
       "                <tbody>\n",
       "                    \n",
       "                    <tr>\n",
       "                        <th> Bytes </th>\n",
       "                        <td> 111.02 MiB </td>\n",
       "                        <td> 41.96 MiB </td>\n",
       "                    </tr>\n",
       "                    \n",
       "                    <tr>\n",
       "                        <th> Shape </th>\n",
       "                        <td> (2645633, 11) </td>\n",
       "                        <td> (1000000, 11) </td>\n",
       "                    </tr>\n",
       "                    <tr>\n",
       "                        <th> Dask graph </th>\n",
       "                        <td colspan=\"2\"> 3 chunks in 29 graph layers </td>\n",
       "                    </tr>\n",
       "                    <tr>\n",
       "                        <th> Data type </th>\n",
       "                        <td colspan=\"2\"> float32 numpy.ndarray </td>\n",
       "                    </tr>\n",
       "                </tbody>\n",
       "            </table>\n",
       "        </td>\n",
       "        <td>\n",
       "        <svg width=\"75\" height=\"170\" style=\"stroke:rgb(0,0,0);stroke-width:1\" >\n",
       "\n",
       "  <!-- Horizontal lines -->\n",
       "  <line x1=\"0\" y1=\"0\" x2=\"25\" y2=\"0\" style=\"stroke-width:2\" />\n",
       "  <line x1=\"0\" y1=\"45\" x2=\"25\" y2=\"45\" />\n",
       "  <line x1=\"0\" y1=\"90\" x2=\"25\" y2=\"90\" />\n",
       "  <line x1=\"0\" y1=\"120\" x2=\"25\" y2=\"120\" style=\"stroke-width:2\" />\n",
       "\n",
       "  <!-- Vertical lines -->\n",
       "  <line x1=\"0\" y1=\"0\" x2=\"0\" y2=\"120\" style=\"stroke-width:2\" />\n",
       "  <line x1=\"25\" y1=\"0\" x2=\"25\" y2=\"120\" style=\"stroke-width:2\" />\n",
       "\n",
       "  <!-- Colored Rectangle -->\n",
       "  <polygon points=\"0.0,0.0 25.412616514582485,0.0 25.412616514582485,120.0 0.0,120.0\" style=\"fill:#ECB172A0;stroke-width:0\"/>\n",
       "\n",
       "  <!-- Text -->\n",
       "  <text x=\"12.706308\" y=\"140.000000\" font-size=\"1.0rem\" font-weight=\"100\" text-anchor=\"middle\" >11</text>\n",
       "  <text x=\"45.412617\" y=\"60.000000\" font-size=\"1.0rem\" font-weight=\"100\" text-anchor=\"middle\" transform=\"rotate(-90,45.412617,60.000000)\">2645633</text>\n",
       "</svg>\n",
       "        </td>\n",
       "    </tr>\n",
       "</table>"
      ],
      "text/plain": [
       "dask.array<rechunk-merge, shape=(2645633, 11), dtype=float32, chunksize=(1000000, 11), chunktype=numpy.ndarray>"
      ]
     },
     "execution_count": 10,
     "metadata": {},
     "output_type": "execute_result"
    }
   ],
   "source": [
    "def to_yX_array(dataframe):\n",
    "    array = dataframe.values.astype(np.float32)\n",
    "    array.compute_chunk_sizes()\n",
    "    return array.rechunk((1_000_000, array.shape[1]))    \n",
    "\n",
    "sim_train, sim_test, sim_validation = sim.random_split([0.5, 0.4, 0.1])\n",
    "acc_yX_train = to_yX_array(sim_train[acceptance_labels + acceptance_vars])\n",
    "acc_yX_test = to_yX_array(sim_test[acceptance_labels + acceptance_vars])\n",
    "acc_yX_validation = to_yX_array(sim_validation[acceptance_labels + acceptance_vars])\n",
    "\n",
    "acc_yX_train"
   ]
  },
  {
   "cell_type": "code",
   "execution_count": 11,
   "id": "e422ef6d-b507-4b1d-b0fe-e086f73d4d91",
   "metadata": {},
   "outputs": [
    {
     "name": "stderr",
     "output_type": "stream",
     "text": [
      "/usr/local/miniconda3/envs/tf_on_gpu/lib/python3.9/site-packages/tqdm/auto.py:22: TqdmWarning: IProgress not found. Please update jupyter and ipywidgets. See https://ipywidgets.readthedocs.io/en/stable/user_install.html\n",
      "  from .autonotebook import tqdm as notebook_tqdm\n",
      "Saving to acceptance-train.tfrecords:   0%|          | 0/3 [00:00<?, ?it/s]2022-12-07 13:59:59.645528: I tensorflow/stream_executor/cuda/cuda_gpu_executor.cc:937] successful NUMA node read from SysFS had negative value (-1), but there must be at least one NUMA node, so returning NUMA node zero\n",
      "2022-12-07 13:59:59.658902: I tensorflow/stream_executor/cuda/cuda_gpu_executor.cc:937] successful NUMA node read from SysFS had negative value (-1), but there must be at least one NUMA node, so returning NUMA node zero\n",
      "2022-12-07 13:59:59.660828: I tensorflow/stream_executor/cuda/cuda_gpu_executor.cc:937] successful NUMA node read from SysFS had negative value (-1), but there must be at least one NUMA node, so returning NUMA node zero\n",
      "2022-12-07 13:59:59.664157: I tensorflow/core/platform/cpu_feature_guard.cc:142] This TensorFlow binary is optimized with oneAPI Deep Neural Network Library (oneDNN) to use the following CPU instructions in performance-critical operations:  SSE4.1 SSE4.2 AVX AVX2 AVX512F FMA\n",
      "To enable them in other operations, rebuild TensorFlow with the appropriate compiler flags.\n",
      "2022-12-07 13:59:59.664877: I tensorflow/stream_executor/cuda/cuda_gpu_executor.cc:937] successful NUMA node read from SysFS had negative value (-1), but there must be at least one NUMA node, so returning NUMA node zero\n",
      "2022-12-07 13:59:59.666770: I tensorflow/stream_executor/cuda/cuda_gpu_executor.cc:937] successful NUMA node read from SysFS had negative value (-1), but there must be at least one NUMA node, so returning NUMA node zero\n",
      "2022-12-07 13:59:59.668626: I tensorflow/stream_executor/cuda/cuda_gpu_executor.cc:937] successful NUMA node read from SysFS had negative value (-1), but there must be at least one NUMA node, so returning NUMA node zero\n",
      "2022-12-07 14:00:00.468073: I tensorflow/stream_executor/cuda/cuda_gpu_executor.cc:937] successful NUMA node read from SysFS had negative value (-1), but there must be at least one NUMA node, so returning NUMA node zero\n",
      "2022-12-07 14:00:00.469477: I tensorflow/stream_executor/cuda/cuda_gpu_executor.cc:937] successful NUMA node read from SysFS had negative value (-1), but there must be at least one NUMA node, so returning NUMA node zero\n",
      "2022-12-07 14:00:00.470631: I tensorflow/stream_executor/cuda/cuda_gpu_executor.cc:937] successful NUMA node read from SysFS had negative value (-1), but there must be at least one NUMA node, so returning NUMA node zero\n",
      "2022-12-07 14:00:00.471806: I tensorflow/core/common_runtime/gpu/gpu_device.cc:1510] Created device /job:localhost/replica:0/task:0/device:GPU:0 with 13649 MB memory:  -> device: 0, name: Tesla T4, pci bus id: 0000:00:05.0, compute capability: 7.5\n",
      "2022-12-07 14:00:00.934649: I tensorflow/compiler/mlir/mlir_graph_optimization_pass.cc:185] None of the MLIR Optimization Passes are enabled (registered 2)\n",
      "Saving to acceptance-train.tfrecords: 100%|██████████| 3/3 [00:32<00:00, 10.81s/it]\n",
      "Saving to acceptance-test.tfrecords: 100%|██████████| 3/3 [00:26<00:00,  8.97s/it]\n",
      "Saving to acceptance-validation.tfrecords: 100%|██████████| 1/1 [00:15<00:00, 15.98s/it]\n"
     ]
    }
   ],
   "source": [
    "import os\n",
    "import shutil\n",
    "import tensorflow as tf\n",
    "from tqdm.auto import tqdm\n",
    "import dask.array\n",
    "\n",
    "def save_as_tf_records(array: dask.array.Array, output_dir):\n",
    "    if os.path.exists(output_dir):\n",
    "        shutil.rmtree(output_dir)\n",
    "\n",
    "    for block in tqdm(array.blocks, desc=f\"Saving to {output_dir}\", total=np.prod(array.blocks.shape)):\n",
    "        concrete_block = block.compute()\n",
    "        y = concrete_block[:, 0:1].astype(np.float32)\n",
    "        X = concrete_block[:, 1: ].astype(np.float32)\n",
    "        prep_X = preprocessing_step.transform(X)\n",
    "        dataset = tf.data.Dataset.from_tensor_slices((prep_X, y))\n",
    "\n",
    "        tf.data.experimental.save(dataset, output_dir)\n",
    "\n",
    "save_as_tf_records(acc_yX_train, \"acceptance-train.tfrecords\")\n",
    "save_as_tf_records(acc_yX_test, \"acceptance-test.tfrecords\")\n",
    "save_as_tf_records(acc_yX_validation, \"acceptance-validation.tfrecords\")"
   ]
  },
  {
   "cell_type": "code",
   "execution_count": 12,
   "id": "97288718",
   "metadata": {
    "collapsed": false,
    "jupyter": {
     "outputs_hidden": false
    },
    "pycharm": {
     "name": "#%%\n"
    }
   },
   "outputs": [],
   "source": [
    "import pickle\n",
    "import os.path\n",
    "output_file = \"/workarea/cloud-storage/anderlinil/models/acceptance/tX.pkl\"\n",
    "output_dir = os.path.dirname(output_file)\n",
    "!mkdir -p {output_dir}\n",
    "with open(output_file, 'wb') as f:\n",
    "    pickle.dump(preprocessing_step, f)"
   ]
  }
 ],
 "metadata": {
  "kernelspec": {
   "display_name": "TensorFlow on GPU",
   "language": "python",
   "name": "tf_on_gpu"
  },
  "language_info": {
   "codemirror_mode": {
    "name": "ipython",
    "version": 3
   },
   "file_extension": ".py",
   "mimetype": "text/x-python",
   "name": "python",
   "nbconvert_exporter": "python",
   "pygments_lexer": "ipython3",
   "version": "3.9.15"
  }
 },
 "nbformat": 4,
 "nbformat_minor": 5
}
